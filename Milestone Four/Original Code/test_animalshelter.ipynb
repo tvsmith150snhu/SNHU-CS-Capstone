import animalshelter as ash


def  createAnimal():
    animal = ash.AnimalShelter("aacuser","password")
    #Create a dictionary
    data = {}
    print("Enter Data, [Key followed by Value]")
    while(True):
        key  = input("Key:")
        if key == "exit":
            break
        value  = input("Enter Value: ")
        data[key] = value
    animal.create(data)
    
def  searchAnimals():
    animal = ash.AnimalShelter("aacuser","password")
    data = {}
    print("Enter Data, [Key followed by Value]")
    while(True):
        key  = input("Enter Key 'exit' to quit- ")
        if key == "exit":
            break
        value  = input("Enter Value: ")
        data[key] = value
    animal.read(data)


def  updateAnimals():
    animal = ash.AnimalShelter("aacuser","password")
    #create empty dictionary
    specifications = {}
    print("Enter Specifications of animal to update:")
    while(True):
        key  = input("Enter Key: ")
        if key == "exit":
            break
        value  = input("Enter Value: ")
        specifications[key] = value
        
    print("Enter New  Values")
    
    new_data = {} #Empty dictionary
    while(True):
        key  = input("Enter Key: ")
        if key == "exit":
            break
        value  = input("Enter Value: ")
        new_data[key] = value
    animal.update(specifications,new_data)      
            
            
def  deleteAnimals():
    animal = ash.AnimalShelter("aacuser","password")
    todelete = {}
    print("Enter Details of animal to be deleted ")
    while(True):
        key  = input("Enter Key[exit to exit]: ")
        if key == "exit":
            break
        value = input("Enter Value: ")
        todelete[key] = value
    animal.delete(todelete)
    read_data = animal.read(todelete)
    
    #Confirm the deletion of data
    if read_data is  None:
         print("Animal Deleted")
    else:
        print("animal was not deleted")
        
        
def displayMenu():
    print("1. Add New Animal")
    print("2. Remove Animal")
    print("3. Update Animal")
    print("4. Search For an Animal")
    print("5. Exit app")

def main():
    
    displayMenu()
    user = input("Choice - ")
    while user != "5":
        if user == "1":
           createAnimal()
        elif user == "2":
            deleteAnimals()
        elif user == "3":
            updateAnimals()
        elif user == "4":
            searchAnimals()
        else:
            print("Invalid data")
            
        displayMenu()
        user = input("Enter Choice - ")

main()
    